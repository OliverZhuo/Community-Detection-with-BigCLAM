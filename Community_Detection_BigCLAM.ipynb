{
 "cells": [
  {
   "cell_type": "code",
   "execution_count": 35,
   "metadata": {
    "id": "7EH2sj4hjEy8"
   },
   "outputs": [],
   "source": [
    "# Importing Necessary Packages\n",
    "import networkx as nx\n",
    "import io\n",
    "import csv\n",
    "import numpy as np\n",
    "import random\n",
    "import math\n",
    "from mpmath import mp"
   ]
  },
  {
   "cell_type": "code",
   "execution_count": 36,
   "metadata": {
    "colab": {
     "base_uri": "https://localhost:8080/"
    },
    "id": "Zh5b4jB8jKqM",
    "outputId": "95830c41-412c-46ff-8b2c-9c7415dcd2cf"
   },
   "outputs": [
    {
     "name": "stdout",
     "output_type": "stream",
     "text": [
      "Number of nodes : 7675\n",
      "Number of edges : 35622\n"
     ]
    }
   ],
   "source": [
    "# Loading the given network file and finding the number of nodes and edges. \n",
    "yt=nx.read_edgelist('/content/drive/MyDrive/XXXXXXX/YouTube.edgelist')\n",
    "print(\"Number of nodes :\", yt.number_of_nodes())\n",
    "print(\"Number of edges :\", yt.number_of_edges())\n",
    "n = yt.number_of_nodes() # n is Number of nodes"
   ]
  },
  {
   "cell_type": "code",
   "execution_count": 37,
   "metadata": {
    "colab": {
     "base_uri": "https://localhost:8080/"
    },
    "id": "jyzKsx3njOxU",
    "outputId": "aff4c94e-e299-46c7-9e49-398fb925a7e0"
   },
   "outputs": [
    {
     "name": "stdout",
     "output_type": "stream",
     "text": [
      "Number of communities: 29\n"
     ]
    }
   ],
   "source": [
    "# Loading the Groudtruth communites file and appending to a list, where each\n",
    "# element represents the nodes for each row in the file\n",
    "act_comm= []\n",
    "gc=open(\"/content/drive/MyDrive/XXXXXXX/groundtruth_communities.txt\",\"r\")\n",
    "for row in gc:\n",
    "  act_comm.append(set(row.strip().split()))\n",
    "  #print(set(row.strip().split()))\n",
    "c = len(act_comm)\n",
    "print(\"Number of communities:\",c)"
   ]
  },
  {
   "cell_type": "code",
   "execution_count": 72,
   "metadata": {
    "id": "hsDJOSPL_7u1"
   },
   "outputs": [],
   "source": [
    "# Loading the twenty percent seed file into a list of lists\n",
    "# There are 29 lists and each list has the node values as given in the file\n",
    "twentyseed=[]\n",
    "with open ('/content/drive/MyDrive/XXXXXXX/20percent_seed_communities.txt') as csvfile:\n",
    "  reader=csv.reader(csvfile, delimiter = ' ')\n",
    "  for row in reader:\n",
    "    twentyseed.append(row)"
   ]
  },
  {
   "cell_type": "code",
   "execution_count": 120,
   "metadata": {
    "id": "RqdS07qsfCdK"
   },
   "outputs": [],
   "source": [
    "# Loading the Neigborhood seed  file into a list of lists\n",
    "# There are 29 lists and each list has the node values as given in the file\n",
    "neigseed=[]\n",
    "with open ('/content/drive/MyDrive/XXXXXXX/neighborhood_seeds.txt') as csvfile:\n",
    "  reader=csv.reader(csvfile, delimiter = ' ')\n",
    "  for row in reader:\n",
    "    neigseed.append(row)"
   ]
  },
  {
   "cell_type": "code",
   "execution_count": 38,
   "metadata": {
    "colab": {
     "base_uri": "https://localhost:8080/"
    },
    "id": "S4wCjKIvjklm",
    "outputId": "eb6e93b5-d5d8-48ad-85b0-769dc14a30b6"
   },
   "outputs": [
    {
     "data": {
      "text/plain": [
       "0.0009118821551182842"
      ]
     },
     "execution_count": 38,
     "metadata": {
      "tags": []
     },
     "output_type": "execute_result"
    }
   ],
   "source": [
    "# Setting threshold as given in the instructions\n",
    "e = math.exp(10^(-8))\n",
    "t = np.sqrt(-(math.log(1-e)))\n",
    "t # t is threshold value"
   ]
  },
  {
   "cell_type": "code",
   "execution_count": 116,
   "metadata": {
    "id": "He06sgvRA-68"
   },
   "outputs": [],
   "source": [
    "# Method to find the detected communities by initializing according to 20percent seed file \n",
    "# Method 1: 20 percent seed community file\n",
    "# Input : No of iterations and learning rate\n",
    "# Output : A tuple of Average recall value and a nested dictiionary of best matched detected communities with avg recall value\n",
    "def meth1(Iterations,learning_rate):\n",
    "  initialized_matrix = meth1_initialization()\n",
    "  c_initialized_matrix = fill_with_conductance(initialized_matrix)\n",
    "  optimized_matrix = matrix_factorization(c_initialized_matrix,Iterations,learning_rate)\n",
    "  assigned_communites = assign_memberships(optimized_matrix)\n",
    "  detected_communites = detect_community_by_recall(assigned_communites)\n",
    "  average_recall = cal_avg_recall(detected_communites)\n",
    "  return (average_recall,detected_communites)"
   ]
  },
  {
   "cell_type": "code",
   "execution_count": 122,
   "metadata": {
    "id": "AW5fMk0mfEoD"
   },
   "outputs": [],
   "source": [
    "# Method to find the detected communities by initializing according to Neighborhood seed file \n",
    "# Method 2: Neighborhood seed community file\n",
    "# Input : No of iterations and learning rate\n",
    "# Output : A tuple of Average recall value and a nested dictiionary of best matched detected communities with avg recall value\n",
    "def meth2(Iterations,learning_rate):\n",
    "  initialized_matrix = meth2_initialization()\n",
    "  c_initialized_matrix = fill_with_conductance(initialized_matrix)\n",
    "  optimized_matrix = matrix_factorization(c_initialized_matrix,Iterations,learning_rate)\n",
    "  assigned_communites = assign_memberships(optimized_matrix)\n",
    "  detected_communites = detect_community_by_recall(assigned_communites)\n",
    "  average_recall = cal_avg_recall(detected_communites)\n",
    "  return (average_recall,detected_communites)"
   ]
  },
  {
   "cell_type": "code",
   "execution_count": 42,
   "metadata": {
    "id": "rnyK5oEDk0Ed"
   },
   "outputs": [],
   "source": [
    "# Method to find the detected communities by initializing according to Random Intialization in the range [0,1]\n",
    "# Method 3: Random Intialization in the range [0,1]\n",
    "# Input : No of iterations and learning rate\n",
    "# Output : A tuple of Average recall value and a nested dictiionary of best matched detected communities with avg recall value\n",
    "def meth3(Iterations,learning_rate):\n",
    "  initialized_matrix = meth3_initialization()\n",
    "  optimized_matrix = matrix_factorization(initialized_matrix,Iterations,learning_rate)\n",
    "  assigned_communites = assign_memberships(optimized_matrix)\n",
    "  detected_communites = detect_community_by_recall(assigned_communites)\n",
    "  average_recall = cal_avg_recall(detected_communites)\n",
    "  return (average_recall,detected_communites)"
   ]
  },
  {
   "cell_type": "code",
   "execution_count": 114,
   "metadata": {
    "id": "j_lneecVABis"
   },
   "outputs": [],
   "source": [
    "# Initilization of Method 1: 20 percent seed file\n",
    "# A nan matrix with (n,c) shape is created with nan values\n",
    "# Updated nans to 1 whenever (n,c) combination is present in 20percent seed file\n",
    "# Returning updated factor matrix\n",
    "def meth1_initialization():\n",
    "  po2=[[np.nan for i in range(c)] for j in range(n)]\n",
    "  fact_mat2=np.array(po2)\n",
    "  for i in range(0,n):\n",
    "    for j in range(0,len(twentyseed)):\n",
    "      if str(i) in twentyseed[j]:\n",
    "        fact_mat2[i,j] = 1\n",
    "  #c_fact_mat2 = fill_with_conductance(fact_mat2)\n",
    "  return fact_mat2"
   ]
  },
  {
   "cell_type": "code",
   "execution_count": 121,
   "metadata": {
    "id": "izymmW82fKAf"
   },
   "outputs": [],
   "source": [
    "# Initilization of Method 2: Neighborhood seed file\n",
    "# A nan matrix with (n,c) shape is created with nan values\n",
    "# Updated nans to 1 whenever (n,c) combination is present in Neighborhood seed file\n",
    "# Returning updated factor matrix\n",
    "def meth2_initialization():\n",
    "  po2=[[np.nan for i in range(c)] for j in range(n)]\n",
    "  fact_mat2=np.array(po2)\n",
    "  for i in range(0,n):\n",
    "    for j in range(0,len(neigseed)):\n",
    "      if str(i) in neigseed[j]:\n",
    "        fact_mat2[i,j] = 1\n",
    "  #c_fact_mat2 = fill_with_conductance(fact_mat2)\n",
    "  return fact_mat2"
   ]
  },
  {
   "cell_type": "code",
   "execution_count": 76,
   "metadata": {
    "id": "7sT6A7MojgUA"
   },
   "outputs": [],
   "source": [
    "# Initilization of Method 3: Random Intilization method in the [0,1]\n",
    "# A nan matrix with (n,c) shape is created with random values in the ranfe of [0,1]\n",
    "# Returning updated factor matrix\n",
    "def meth3_initialization():\n",
    "  po=[[random.randint(0,1000)/1000.0 for i in range(c)] for j in range(n)]\n",
    "  fact_mat=np.array(po)\n",
    "  return fact_mat"
   ]
  },
  {
   "cell_type": "code",
   "execution_count": 115,
   "metadata": {
    "id": "fBYdzFg1AVLl"
   },
   "outputs": [],
   "source": [
    "# For Methods 1 and 2, the nan values(Remaning valyues not filled with seed files)\n",
    "# is filled using the conductance logic\n",
    "# Input : Factor Matrix\n",
    "# Output: Updayed Factor Matrix\n",
    "def fill_with_conductance(fact_mat2):\n",
    "  for i in range(0,n): # For each node\n",
    "    cd = np.inf # Intiliazing first conductance value to infinity\n",
    "    global local_comm # Declared local community variable\n",
    "    m = [str(i)]  + list(yt.neighbors(str(i))) # node + its neighbors\n",
    "    for j in range(0,c): # For each community\n",
    "      if math.isnan(fact_mat2[i,j]): # If its nan only(because only the remaning values)\n",
    "        act_cd = nx.conductance(yt, set(m+twentyseed[j])) # Measuring conducatance of node+neighbors+community members\n",
    "        if act_cd < cd:\n",
    "          cd = act_cd\n",
    "          local_comm = j # Updating loca_comm variable as per the comm with lowest conductance vaue\n",
    "    for z in m: # Looping over node i and neiggbors\n",
    "      fact_mat2[int(z),local_comm] = 1 # Updating factormatrix[n,local_comm] = 1 where n nelong to node +neighbors\n",
    "      for j in range(0,len(twentyseed)): # Updating to 0 if not the local_comm\n",
    "        if (j != local_comm and (math.isnan(fact_mat2[int(z),j]))):\n",
    "          fact_mat2[int(z),j] = 0\n",
    "  return fact_mat2 # returninf updated factor matrix"
   ]
  },
  {
   "cell_type": "code",
   "execution_count": 44,
   "metadata": {
    "id": "ziUyhHUoju3Q"
   },
   "outputs": [],
   "source": [
    "# A method to update each node in factor matrix as per bigclam v2.0 formula\n",
    "# Input : Completed Initliazed FACTOR mAtrix, number of iterations, learning rate\n",
    "def matrix_factorization(matrix,Itertions,learning_rate):\n",
    "  fact_mat = matrix\n",
    "  lr = learning_rate\n",
    "  I = Itertions\n",
    "  for iter in range(0,500):   # Taking max i as 500\n",
    "    if iter < I or all([q>0.001 for q in all_fu_change]): # Checking if i<I or percentage change of fu for all fu <0.001%\n",
    "      all_fu_change = []\n",
    "      #print(iter)\n",
    "      fw=[0]*c\n",
    "      for w in fact_mat:\n",
    "        fw = np.add(fw,w) # Finidnf sigma fw term\n",
    "      for i in range(0,n): # For each node\n",
    "        fu = fact_mat[i,] # fu value\n",
    "        neig = list(yt.neighbors(str(i))) # Getting the list of neigbors\n",
    "        fv_neig=[0]*c\n",
    "        first_term = [0]*c\n",
    "        for j in neig:\n",
    "          fv_neig=np.add(fv_neig,fact_mat[int(j)]) # Adding all neighbor nodes\n",
    "          try:\n",
    "            term = fact_mat[int(j)]*(math.exp(-(np.dot(fu,fact_mat[int(j)])))/(1-math.exp(-(np.dot(fu,fact_mat[int(j)]))))) # first term in gradient equation\n",
    "          except: #ZeroDivisionError:\n",
    "            term = 0 #fact_mat[int(j)]*(math.exp(-(np.dot(fu,fact_mat[int(j)]))))\n",
    "          #print(term)\n",
    "          first_term = np.add(first_term,term) # Adding all the first terms\n",
    "        fv_not_neig = np.subtract(np.subtract(fw,fu),fv_neig) # fc not neighbors value calulatio\n",
    "        grad_fu = np.subtract(first_term,fv_not_neig) # Finiding the fradient\n",
    "        fu = fu + (grad_fu*lr) # updating fu\n",
    "        before = np.sum(fact_mat[i,]) # getting the prev values of fu\n",
    "        for y in range(0,c):\n",
    "          if fu[y]< 0:\n",
    "            fact_mat[i,y] = 0 # projecting fu values to if the update value is neagtive\n",
    "          else:\n",
    "            fact_mat[i,y] = fu[y]      # if positving, assiging the new values\n",
    "        after = np.sum(fact_mat[i,]) # getting the updated value of fu\n",
    "        fu_change = ((after - before)/before)*100  # calculating the percentage change\n",
    "        all_fu_change.append(fu_change)\n",
    "  return fact_mat # returning factor matrix after all iterations or if the change in percent <0.001"
   ]
  },
  {
   "cell_type": "code",
   "execution_count": 45,
   "metadata": {
    "id": "4Ea923JzmSna"
   },
   "outputs": [],
   "source": [
    "# Assigning memerbshup to nodes comparing with threhsodl\n",
    "# Input : Optimized Factor Matrix after Matrix Factorization\n",
    "# Output : A dictionary of assigned communities as per the threshold\n",
    "def assign_memberships(factor_matrix):\n",
    "  fact_mat_trans = factor_matrix.T # Transposing the factor matrix\n",
    "  pred_comm = []\n",
    "  for v in range(0,c):\n",
    "    comm = set()\n",
    "    for u in range(0,n):\n",
    "      if fact_mat_trans[v,u] >=t:\n",
    "        comm.add(str(u))\n",
    "    pred_comm.append(comm) # appending nodes of each community\n",
    "  assigned_communties = {}\n",
    "  for i in range(0,c):\n",
    "    assigned_communties[i] = pred_comm[i] # indexing the community number as key and pred_comm as value\n",
    "  return assigned_communties"
   ]
  },
  {
   "cell_type": "code",
   "execution_count": 46,
   "metadata": {
    "id": "5sE1dpEKnai6"
   },
   "outputs": [],
   "source": [
    "# A fucntion to detected the best matched community for each groud truth community\n",
    "# Input : Assigned communities dictionary\n",
    "# Output: Detected community + recall score fr each ground truth community\n",
    "# Recall formula = true positives /(true positives/false negatives)\n",
    "def detect_community_by_recall(assigned_communties):\n",
    "  all={}\n",
    "  for a in range(0,c): # For each community in ground truth\n",
    "    each = []\n",
    "    recall = -1\n",
    "    best_match_comm = -1\n",
    "    for p in range(0,c): # For each in assignec coomunities (As communities may shift positions)\n",
    "      if p in assigned_communties.keys():\n",
    "        if len(act_comm[a].intersection(assigned_communties[p]))/len(act_comm[a]) > recall:\n",
    "          recall = len(act_comm[a].intersection(assigned_communties[p]))/len(act_comm[a]) # as per recall formula\n",
    "          best_match_comm = p\n",
    "    each.append(best_match_comm) #appenindg the best matched coounity from assigned \n",
    "    each.append(recall) # and its recall score\n",
    "    all[a] = each\n",
    "    assigned_communties.pop(best_match_comm) # removing the best matched detected community\n",
    "  return all # retufing thr final dictionary with gccomm:[deteced comm, recall]"
   ]
  },
  {
   "cell_type": "code",
   "execution_count": 47,
   "metadata": {
    "id": "sLYmezubn5XP"
   },
   "outputs": [],
   "source": [
    "# A method to just give the average recall score\n",
    "# input detected communities(+recall scores)\n",
    "#output: average recall score\n",
    "def cal_avg_recall(detected_communites):\n",
    "  avg_recall=0\n",
    "  for i in range(0,c):\n",
    "    avg_recall+=detected_communites[i][1]\n",
    "  return avg_recall/c"
   ]
  },
  {
   "cell_type": "code",
   "execution_count": null,
   "metadata": {
    "id": "YrvDMOcimyOD"
   },
   "outputs": [],
   "source": [
    "# Calling Methods"
   ]
  },
  {
   "cell_type": "code",
   "execution_count": null,
   "metadata": {
    "id": "ikFyg-qVm3lf"
   },
   "outputs": [],
   "source": [
    "meth1_results = meth1(350,0.00001)\n",
    "meth2_results = meth2(350,0.00001)\n",
    "meth3_results = meth3(350,0.000001)"
   ]
  },
  {
   "cell_type": "code",
   "execution_count": 160,
   "metadata": {
    "colab": {
     "base_uri": "https://localhost:8080/"
    },
    "id": "Gb-OGhEupNGJ",
    "outputId": "5324b541-6289-41e5-eabb-6b2131d4143e"
   },
   "outputs": [
    {
     "name": "stdout",
     "output_type": "stream",
     "text": [
      "Average Recall Score for Method 1: Initializing with 20 percent seed file :  0.67\n",
      "Average Recall Score for Method 2: Initializing with Neighborhood seed file :  0.63\n",
      "Average Recall Score for Method 3: Initializing with Random Intialization values in [0,1] :  0.51\n"
     ]
    }
   ],
   "source": [
    "# Printing Recall scores of each method\n",
    "print(\"Average Recall Score for Method 1: Initializing with 20 percent seed file : \", round(meth1_results[0],2))\n",
    "print(\"Average Recall Score for Method 2: Initializing with Neighborhood seed file : \", round(meth2_results[0],2))\n",
    "print(\"Average Recall Score for Method 3: Initializing with Random Intialization values in [0,1] : \", round(meth3_results[0],2))"
   ]
  },
  {
   "cell_type": "code",
   "execution_count": 169,
   "metadata": {
    "id": "hpZUNKJKpyA-"
   },
   "outputs": [],
   "source": [
    "# Outputting Detected Communities for each method to csv files\n",
    "# Format : Ground Truth Community : Detected Community \n",
    "field_names= ['Groundtruth Community', 'Detected Community : Average Recall Score']\n",
    "\n",
    "# Method 1: Output\n",
    "a_file = open(\"/content/drive/MyDrive/XXXXXXXXX/method1_detected_communities.csv\", \"w\")\n",
    "a_dict = meth1_results[1]\n",
    "\n",
    "writer = csv.writer(a_file)\n",
    "for key, value in a_dict.items():\n",
    "    writer.writerow([key, value])\n",
    "\n",
    "a_file.close()\n",
    "\n",
    "# Method 2 output\n",
    "a_file = open(\"/content/drive/MyDrive/XXXXXXXXXXXXXX/method2_detected_communities.csv\", \"w\")\n",
    "a_dict = meth2_results[1]\n",
    "\n",
    "writer = csv.writer(a_file)\n",
    "for key, value in a_dict.items():\n",
    "    writer.writerow([key, value])\n",
    "\n",
    "a_file.close()\n",
    "\n",
    "# Method 3 output\n",
    "a_file = open(\"/content/drive/MyDrive/XXXXXXXXXXXX/method3_detected_communities.csv\", \"w\")\n",
    "a_dict = meth3_results[1]\n",
    "\n",
    "writer = csv.writer(a_file)\n",
    "for key, value in a_dict.items():\n",
    "    writer.writerow([key, value])\n",
    "\n",
    "a_file.close()"
   ]
  },
  {
   "cell_type": "code",
   "execution_count": null,
   "metadata": {
    "id": "TGy2iw6EmIWa"
   },
   "outputs": [],
   "source": [
    "# Plots"
   ]
  },
  {
   "cell_type": "code",
   "execution_count": 144,
   "metadata": {
    "id": "WFyXf3k5kWiZ"
   },
   "outputs": [],
   "source": [
    "# Getting the count of how many communities actually matched with the ground truth for all the three methods\n",
    "def get_mat_commu_count(meth_results):\n",
    "  matched_commu_count = 0\n",
    "  for k,v in meth_results[1].items():\n",
    "    if k == v[0]:\n",
    "      matched_commu_count+=1\n",
    "  return matched_commu_count\n",
    "f = []\n",
    "f.append(get_mat_commu_count(meth1_results))\n",
    "f.append(get_mat_commu_count(meth2_results))\n",
    "f.append(get_mat_commu_count(meth3_results))"
   ]
  },
  {
   "cell_type": "code",
   "execution_count": 149,
   "metadata": {
    "colab": {
     "base_uri": "https://localhost:8080/",
     "height": 366
    },
    "id": "FD_wGC4yjCZ1",
    "outputId": "b6d1a08b-1646-42b6-f9af-45dfea3c2e6c"
   },
   "outputs": [
    {
     "data": {
      "image/png": "[encoded data removed]",
      "text/plain": [
       "<Figure size 432x288 with 1 Axes>"
      ]
     },
     "metadata": {
      "needs_background": "light",
      "tags": []
     },
     "output_type": "display_data"
    }
   ],
   "source": [
    "# PLotting the average recall score for all the 3 methods\n",
    "import matplotlib.pyplot as plt\n",
    "fig = plt.figure()\n",
    "ax = fig.add_axes([0,0,1,1])\n",
    "methods = ['Method 1', 'Method 2', 'Method 3']\n",
    "avg_recall = [round(meth1_results[0],2),round(meth2_results[0],2),round(meth3_results[0],2)]\n",
    "plt.barh(methods, avg_recall, color = 'c', label='Method 1: 20%seed, Method 2: Neighbor seed Method 3:Random Initialization')\n",
    "plt.xlabel('Average Recall Value')\n",
    "plt.ylabel('Method types')\n",
    "plt.title(\"Comparision of three methods by Average Recall Value\")\n",
    "plt.legend(loc='best')\n",
    "for index, value in enumerate(avg_recall):\n",
    "    plt.text(value, index, str(value))\n",
    "plt.show()"
   ]
  },
  {
   "cell_type": "code",
   "execution_count": 154,
   "metadata": {
    "colab": {
     "base_uri": "https://localhost:8080/",
     "height": 366
    },
    "id": "ZHcPDNHrllty",
    "outputId": "9ac513a8-ae62-4e66-9bd7-cb9bd560edbe"
   },
   "outputs": [
    {
     "data": {
      "image/png": "[encoded data removed]",
      "text/plain": [
       "<Figure size 432x288 with 1 Axes>"
      ]
     },
     "metadata": {
      "needs_background": "light",
      "tags": []
     },
     "output_type": "display_data"
    }
   ],
   "source": [
    "# Plotting the number of matched detected communites for each methos\n",
    "import matplotlib.pyplot as plt\n",
    "fig = plt.figure()\n",
    "ax = fig.add_axes([0,0,1,1])\n",
    "methods = ['Method 1', 'Method 2', 'Method 3']\n",
    "matched_comm_count = f\n",
    "plt.barh(methods, matched_comm_count, color = 'c', label='Method 1: 20%seed, Method 2: Neighbor seed Method 3:Random Initialization')\n",
    "plt.xlabel('Number of true detected communites with Groundtruth')\n",
    "plt.ylabel('Method types')\n",
    "plt.title(\"Comparision of three methods by Detected Communites Count\")\n",
    "plt.legend(loc='best')\n",
    "for index, value in enumerate(matched_comm_count):\n",
    "    plt.text(value, index, str(value))\n",
    "plt.show()"
   ]
  },
  {
   "cell_type": "markdown",
   "metadata": {
    "id": "6GrChwQ0zrI4"
   },
   "source": [
    "# Comparision and Contrast of the models using plots\n",
    "From the visualizations of the 2plots, it can be observed that method 1 has best results. As its average recall score is 0.67 and it has the highest number of matched detected communitues. The second place is taken by method 3 with a recall of 0.63 and the second best mathched detected communities. The least place is taken by method 1 with a recall of 0.53.\n",
    "\n",
    "It can be said , the performance of method 1(20% seed initialization) > method 2(neighborhood seed initilization) > method 3( random initilization [0,1])"
   ]
  },
  {
   "cell_type": "code",
   "execution_count": null,
   "metadata": {},
   "outputs": [],
   "source": []
  }
 ],
 "metadata": {
  "colab": {
   "collapsed_sections": [],
   "name": "Community_Detection_submission.ipynb",
   "provenance": []
  },
  "kernelspec": {
   "display_name": "Python 3",
   "language": "python",
   "name": "python3"
  },
  "language_info": {
   "codemirror_mode": {
    "name": "ipython",
    "version": 3
   },
   "file_extension": ".py",
   "mimetype": "text/x-python",
   "name": "python",
   "nbconvert_exporter": "python",
   "pygments_lexer": "ipython3",
   "version": "3.7.4"
  }
 },
 "nbformat": 4,
 "nbformat_minor": 1
}
